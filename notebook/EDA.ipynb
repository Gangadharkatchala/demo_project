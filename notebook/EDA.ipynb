{
 "cells": [
  {
   "cell_type": "markdown",
   "id": "ef8def6c",
   "metadata": {},
   "source": [
    "data checks to perform\n",
    "\n",
    "1.check missing values\n",
    "\n",
    "2.check duplicates\n",
    "\n",
    "3.check datatype\n",
    "\n",
    "4.check no of unique values of each column  (df.nunique())\n",
    "\n",
    "5.check statistics of dataset\n",
    "\n",
    "6.check various categories present in the different categorical column\n"
   ]
  },
  {
   "cell_type": "markdown",
   "id": "533d80d9",
   "metadata": {},
   "source": []
  }
 ],
 "metadata": {
  "language_info": {
   "name": "python"
  }
 },
 "nbformat": 4,
 "nbformat_minor": 5
}
